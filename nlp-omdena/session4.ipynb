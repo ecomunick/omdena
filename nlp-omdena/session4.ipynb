{
  "nbformat": 4,
  "nbformat_minor": 0,
  "metadata": {
    "colab": {
      "provenance": [],
      "authorship_tag": "ABX9TyPODY5O49S+jMlLlreOVwta",
      "include_colab_link": true
    },
    "kernelspec": {
      "name": "python3",
      "display_name": "Python 3"
    },
    "language_info": {
      "name": "python"
    }
  },
  "cells": [
    {
      "cell_type": "markdown",
      "metadata": {
        "id": "view-in-github",
        "colab_type": "text"
      },
      "source": [
        "<a href=\"https://colab.research.google.com/github/ecomunick/nlp-omdena/blob/main/session4.ipynb\" target=\"_parent\"><img src=\"https://colab.research.google.com/assets/colab-badge.svg\" alt=\"Open In Colab\"/></a>"
      ]
    },
    {
      "cell_type": "code",
      "execution_count": 1,
      "metadata": {
        "colab": {
          "base_uri": "https://localhost:8080/"
        },
        "id": "gFHc8xenj026",
        "outputId": "8eb55d65-c234-441f-a6bb-5ce3808f3f32"
      },
      "outputs": [
        {
          "output_type": "stream",
          "name": "stdout",
          "text": [
            "Looking in indexes: https://pypi.org/simple, https://us-python.pkg.dev/colab-wheels/public/simple/\n",
            "Requirement already satisfied: scikit-learn in /usr/local/lib/python3.10/dist-packages (1.2.2)\n",
            "Requirement already satisfied: numpy>=1.17.3 in /usr/local/lib/python3.10/dist-packages (from scikit-learn) (1.22.4)\n",
            "Requirement already satisfied: scipy>=1.3.2 in /usr/local/lib/python3.10/dist-packages (from scikit-learn) (1.10.1)\n",
            "Requirement already satisfied: joblib>=1.1.1 in /usr/local/lib/python3.10/dist-packages (from scikit-learn) (1.2.0)\n",
            "Requirement already satisfied: threadpoolctl>=2.0.0 in /usr/local/lib/python3.10/dist-packages (from scikit-learn) (3.1.0)\n"
          ]
        }
      ],
      "source": [
        "!pip install -U scikit-learn"
      ]
    },
    {
      "cell_type": "code",
      "source": [
        "import pandas as pd\n",
        "from sklearn.feature_extraction.text import TfidfVectorizer"
      ],
      "metadata": {
        "id": "KiiQhGXakAzl"
      },
      "execution_count": 2,
      "outputs": []
    },
    {
      "cell_type": "code",
      "source": [
        "doc_1 = \"Sample sentence\"\n",
        "doc_2 = \"Second sample sentence\"\n",
        "doc_3 = \"Third sample sentence\"\n",
        "\n",
        "corpus = [doc_1, doc_2, doc_3]\n",
        "\n",
        "preprocess_corpus = [preprocess_text(doc) for doc in corpus]\n",
        "\n",
        "vectorizer = TfidfVectorizer(norm=None)\n",
        "tf_idf_scores = vectorizer.fit_transform(preprocess_corpus)\n",
        "\n",
        "feature_names = vectorizer.get_feature_names_out()\n",
        "corpus_index = [f\"Document {i+1}\" for i in range(len(corpus))]\n",
        "\n",
        "df_tf_idf = pd.DataFrame(tf_idf_scores.T.todense(), index=feature_names, columns=corpus_index )\n",
        "\n"
      ],
      "metadata": {
        "id": "_MKqRKkrkRTl"
      },
      "execution_count": 8,
      "outputs": []
    },
    {
      "cell_type": "code",
      "source": [
        "#import pandas as pd\n",
        "#from sklearn.feature_extraction.text import TfidfVectorizer\n",
        "#import re\n",
        "\n",
        "import pandas as pd\n",
        "from sklearn.feature_extraction.text import CountVectorizer\n",
        "import re"
      ],
      "metadata": {
        "id": "IcbIzhdomItH"
      },
      "execution_count": 3,
      "outputs": []
    },
    {
      "cell_type": "code",
      "source": [
        "#CountVectorizer,\n",
        "def preprocess_text(text):\n",
        "  text = text.lower() # converter all to lower case\n",
        "  text = re.sub(r'[^\\w\\s]', '', text) # remove ponctuation\n",
        "  text = re.sub(r's', ' ', text).strip() # remove white space\n",
        "  return text\n",
        "\n",
        "poem = '''\n",
        "Success is counted sweetest\n",
        "By those who ne'er succeed.\n",
        "To comprehend a nectar\n",
        "Requires sorest need.\n",
        "\n",
        "Not one of all the purple host\n",
        "Who took the flag to-day\n",
        "Can tell the definition,\n",
        "So clear, of victory,\n",
        "\n",
        "As he, defeated, dying,\n",
        "On whose forbidden ear\n",
        "The distant strains of triumph\n",
        "Break, agonized and clear!'''\n",
        "\n",
        "clear_count = 2\n",
        "\n",
        "preprocess_poem = preprocess_text(poem)\n",
        "\n",
        "vectorizer = CountVectorizer()\n",
        "term_frequencies = vectorizer.fit_transform([preprocess_poem])\n",
        "\n",
        "#feature_names = vectorizer.get_feature_names_out\n",
        "feature_names = vectorizer.get_feature_names()\n",
        "\n",
        "try:\n",
        "  df_term_frequencies = pd.DataFrame(term_frequencies.T.todense(), index= feature_names, columns=[\"Term Frequency\"])\n",
        "  print(df_term_frequencies)\n",
        "\n",
        "except:\n",
        "  pass\n",
        "\n"
      ],
      "metadata": {
        "colab": {
          "base_uri": "https://localhost:8080/",
          "height": 236
        },
        "id": "t2lx6YWbmOCy",
        "outputId": "76ee5eb9-b410-4d12-9638-a774f20e657d"
      },
      "execution_count": 9,
      "outputs": [
        {
          "output_type": "error",
          "ename": "AttributeError",
          "evalue": "ignored",
          "traceback": [
            "\u001b[0;31m---------------------------------------------------------------------------\u001b[0m",
            "\u001b[0;31mAttributeError\u001b[0m                            Traceback (most recent call last)",
            "\u001b[0;32m<ipython-input-9-d2feab4f23ea>\u001b[0m in \u001b[0;36m<cell line: 32>\u001b[0;34m()\u001b[0m\n\u001b[1;32m     30\u001b[0m \u001b[0;34m\u001b[0m\u001b[0m\n\u001b[1;32m     31\u001b[0m \u001b[0;31m#feature_names = vectorizer.get_feature_names_out\u001b[0m\u001b[0;34m\u001b[0m\u001b[0;34m\u001b[0m\u001b[0m\n\u001b[0;32m---> 32\u001b[0;31m \u001b[0mfeature_names\u001b[0m \u001b[0;34m=\u001b[0m \u001b[0mvectorizer\u001b[0m\u001b[0;34m.\u001b[0m\u001b[0mget_feature_names\u001b[0m\u001b[0;34m(\u001b[0m\u001b[0;34m)\u001b[0m\u001b[0;34m\u001b[0m\u001b[0;34m\u001b[0m\u001b[0m\n\u001b[0m\u001b[1;32m     33\u001b[0m \u001b[0;34m\u001b[0m\u001b[0m\n\u001b[1;32m     34\u001b[0m \u001b[0;32mtry\u001b[0m\u001b[0;34m:\u001b[0m\u001b[0;34m\u001b[0m\u001b[0;34m\u001b[0m\u001b[0m\n",
            "\u001b[0;31mAttributeError\u001b[0m: 'CountVectorizer' object has no attribute 'get_feature_names'"
          ]
        }
      ]
    }
  ]
}