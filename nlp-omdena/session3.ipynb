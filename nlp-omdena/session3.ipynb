{
  "nbformat": 4,
  "nbformat_minor": 0,
  "metadata": {
    "colab": {
      "provenance": [],
      "authorship_tag": "ABX9TyN1XbjbhN4jUswx3IOW2Q6M",
      "include_colab_link": true
    },
    "kernelspec": {
      "name": "python3",
      "display_name": "Python 3"
    },
    "language_info": {
      "name": "python"
    }
  },
  "cells": [
    {
      "cell_type": "markdown",
      "metadata": {
        "id": "view-in-github",
        "colab_type": "text"
      },
      "source": [
        "<a href=\"https://colab.research.google.com/github/ecomunick/nlp-omdena/blob/main/session3.ipynb\" target=\"_parent\"><img src=\"https://colab.research.google.com/assets/colab-badge.svg\" alt=\"Open In Colab\"/></a>"
      ]
    },
    {
      "cell_type": "code",
      "execution_count": 5,
      "metadata": {
        "id": "TNm8fuNFKgVE"
      },
      "outputs": [],
      "source": [
        "import spacy\n",
        "\n",
        "# https://spacy.io/usage"
      ]
    },
    {
      "cell_type": "code",
      "source": [
        "#nlp = spacy.load('en') # The \"en\" model is deprecated, use nlp = spacy.load(\"en_core_web_sm\")\n",
        "nlp = spacy.load(\"en_core_web_sm\")\n",
        "nlp('dog').vector"
      ],
      "metadata": {
        "colab": {
          "base_uri": "https://localhost:8080/"
        },
        "id": "FzPx6yCjK_PW",
        "outputId": "cbf3e71f-d1e6-41d7-d3ac-799db0c5c240"
      },
      "execution_count": 2,
      "outputs": [
        {
          "output_type": "execute_result",
          "data": {
            "text/plain": [
              "array([-1.6806675 , -1.2663747 , -0.71255565,  0.22143888,  0.28581634,\n",
              "        0.23924345,  1.2992647 ,  1.0683641 , -0.1666507 , -0.593021  ,\n",
              "        0.20207635, -0.71124184, -0.5710875 , -0.2685267 , -0.5052826 ,\n",
              "        0.60505986, -1.5851773 , -1.6874862 ,  0.7026561 ,  0.60366225,\n",
              "        0.3043416 ,  1.3963956 , -0.056483  , -0.6299367 ,  0.09717859,\n",
              "        0.5463655 ,  0.36506647,  0.73901325, -0.16906115,  0.35410628,\n",
              "        0.33770823, -0.7352046 ,  1.6755302 ,  0.48371333,  0.0184648 ,\n",
              "       -0.92315257,  0.6245377 ,  0.11393103,  0.8193037 , -0.01115507,\n",
              "       -0.49064368, -0.30198318,  0.43095675, -0.05127436, -0.11000359,\n",
              "       -0.64060974, -1.4619632 ,  0.85834503, -0.4855454 ,  0.01614086,\n",
              "       -0.10124743,  1.2471893 ,  0.7936216 , -0.49573362,  1.0994403 ,\n",
              "       -0.22723481,  1.289906  , -0.8966851 , -0.07580797, -0.6877714 ,\n",
              "       -0.9954758 , -0.70957065, -0.3484952 , -0.35015944,  0.6045856 ,\n",
              "        0.21346438, -0.22741812,  0.12088367,  0.8521288 ,  0.11694434,\n",
              "        0.42555034,  0.8777968 ,  1.9081106 , -0.62818205,  0.2991566 ,\n",
              "       -0.26263964, -0.4627701 , -0.11653326,  0.6030469 , -1.1594303 ,\n",
              "       -0.3226232 , -0.1124312 , -1.5564214 , -0.44001883,  0.8246197 ,\n",
              "        1.0218511 ,  0.31111258, -0.46998724, -2.129951  ,  1.1728595 ,\n",
              "       -1.2842656 , -1.1179041 ,  1.596463  ,  0.51193094,  0.22032768,\n",
              "        1.6200272 ], dtype=float32)"
            ]
          },
          "metadata": {},
          "execution_count": 2
        }
      ]
    },
    {
      "cell_type": "code",
      "source": [
        "dog_vector = nlp('dog').vector"
      ],
      "metadata": {
        "id": "JiLu5b34Lg6T"
      },
      "execution_count": 3,
      "outputs": []
    },
    {
      "cell_type": "code",
      "source": [
        "len(dog_vector)"
      ],
      "metadata": {
        "colab": {
          "base_uri": "https://localhost:8080/"
        },
        "id": "Y5quBd11LkFe",
        "outputId": "c96332e0-b958-4502-8a97-1c62261104a6"
      },
      "execution_count": 4,
      "outputs": [
        {
          "output_type": "execute_result",
          "data": {
            "text/plain": [
              "96"
            ]
          },
          "metadata": {},
          "execution_count": 4
        }
      ]
    },
    {
      "cell_type": "code",
      "source": [],
      "metadata": {
        "id": "WDtvyesBLuVV"
      },
      "execution_count": 4,
      "outputs": []
    }
  ]
}